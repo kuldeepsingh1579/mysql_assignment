{
 "cells": [
  {
   "cell_type": "raw",
   "id": "2e515d03-a60d-4459-879d-2ba7a8fc77e5",
   "metadata": {},
   "source": [
    "Question-No.1\n",
    "\n",
    "Database-A database is an organized collection of data, so that it can be easily accessed and managed.\n",
    "\n",
    "You can organize data into tables, rows, columns, and index it to make it easier to find relevant information.\n",
    "A database is a structured collection of data that is organized and stored in a way that allows for efficient retrieval, management, and manipulation of data. It provides a means for storing, managing, and accessing large amounts of information.\n",
    "\n",
    "Differentiate between SQL and NoSQL databases--\n",
    "1-\n",
    "-->SQL Databases are categorized as Relational Database Management System (RDBMS).\n",
    "-->NOSQL databases are categorized as Non-relational or distributed database system.\n",
    "2-\n",
    "-->SQL databases use a powerful language \"Structured Query Language\" to define and manipulate the data.\n",
    "-->NoSQL databases, collection of documents are used to query the data. It is also called unstructured query language. It varies from database to database.\n",
    "3-\n",
    "-->\tMySQL, Oracle, Sqlite, PostgreSQL and MS-SQL etc. are the example of SQL database.\n",
    "-->MongoDB, BigTable, Redis, RavenDB, Cassandra, Hbase, Neo4j, CouchDB etc. are the example of nosql database"
   ]
  },
  {
   "cell_type": "raw",
   "id": "84f985ef-07d7-4a91-bb86-c4f416bbb6b3",
   "metadata": {},
   "source": [
    "Question-No.2\n",
    "\n",
    "DDL- DDL stands for Data Definition Language. It is a subset of SQL (Structured Query Language) that is used to define, modify, and manage the structure of a database and its objects, such as tables, indexes, views, and constraints\n",
    "\n",
    "CREATE:\n",
    "The CREATE statement is used to create new database objects, such as tables, views, indexes, or schemas. It defines the structure and properties of the object being created. \n",
    "\n",
    "DROP:\n",
    "The DROP statement is used to delete an existing database object, such as a table, view, or index. It permanently removes the object and its associated data from the database. \n",
    "\n",
    "ALTER:\n",
    "The ALTER statement is used to modify the structure or properties of an existing database object. It allows you to add, modify, or drop columns, constraints, or indexes.\n",
    "\n",
    "TRUNCATE:\n",
    "The TRUNCATE statement is used to delete all the data from an existing table while keeping its structure intact. It is a faster alternative to the DELETE statement when you want to remove all rows from a table\n",
    "\n",
    "\n"
   ]
  },
  {
   "cell_type": "raw",
   "id": "9f000888-d152-4ebe-9753-13962cdb628b",
   "metadata": {},
   "source": [
    "Question-No.3\n",
    "\n",
    "DML stands for Data Manipulation Language. It is a subset of SQL (Structured Query Language) used to manipulate data stored in a database. DML statements allow you to insert, update, and delete data within database tables.\n",
    "\n",
    "INSERT:\n",
    "The INSERT statement is used to add new records (rows) into a table. It allows you to specify the values to be inserted into each column or select values from another table. \n",
    "\n",
    "UPDATE:\n",
    "The UPDATE statement is used to modify existing records in a table. It allows you to change the values of specific columns based on specified conditions. \n",
    "\n",
    "DELETE:\n",
    "The DELETE statement is used to remove records from a table based on specified conditions. It permanently deletes the specified rows from the table."
   ]
  },
  {
   "cell_type": "raw",
   "id": "5bd88202-9c94-4525-82f9-86a5e167480c",
   "metadata": {},
   "source": [
    "import mysql.connector\n",
    "\n",
    "# Establishing a connection to the MySQL database\n",
    "cnx = mysql.connector.connect(\n",
    "    host=\"localhost\",\n",
    "    user=\"abc\",\n",
    "    password=\"password\",\n",
    "    database=\"kuldeep\"\n",
    ")\n",
    "\n",
    "# Creating a cursor\n",
    "cursor = cnx.cursor()\n",
    "\n",
    "# Execute INSERT statement\n",
    "insert_query = \"\"\"\n",
    "    INSERT INTO Employees (ID, Name, Age, Department)\n",
    "    VALUES (1, 'John Doe', 30, 'HR')\n",
    "\"\"\"\n",
    "cursor.execute(insert_query)\n",
    "\n",
    "# Execute UPDATE statement\n",
    "update_query = \"\"\"\n",
    "    UPDATE Employees\n",
    "    SET Age = 35\n",
    "    WHERE ID = 1\n",
    "\"\"\"\n",
    "cursor.execute(update_query)\n",
    "\n",
    "# Execute DELETE statement\n",
    "delete_query = \"DELETE FROM Employees WHERE ID = 1\"\n",
    "cursor.execute(delete_query)\n",
    "\n",
    "# Commit the changes\n",
    "cnx.commit()\n",
    "\n",
    "# Closing the cursor and connection\n",
    "cursor.close()\n",
    "cnx.close()\n"
   ]
  },
  {
   "cell_type": "raw",
   "id": "994bff8f-460c-435b-ab93-47d7d77e547b",
   "metadata": {},
   "source": [
    "Question-No.4\n",
    "\n",
    "DQL stands for \"Data Query Language,\" and it is a sub-language of SQL (Structured Query Language) used for querying and retrieving data from a relational database. SQL is a standard language for managing and manipulating relational databases, and DQL is one of its key components, mainly used for reading and retrieving data from the database.\n",
    "\n",
    "The most common DQL statement is the SELECT statement, which is used to retrieve data from one or more tables in the database. It allows you to specify the columns you want to retrieve, the tables from which you want to fetch data, and conditions to filter the data\n",
    "\n",
    "SYNTAX OF SELECT STATEMENTS--\n",
    "\n",
    "SELECT column1, column2, ...\n",
    "FROM table_name\n",
    "WHERE condition;\n"
   ]
  },
  {
   "cell_type": "raw",
   "id": "923227eb-6728-4389-9e55-998cf0374951",
   "metadata": {},
   "source": [
    "Question-No.5\n",
    "\n",
    "Primary Key:\n",
    "\n",
    "In the context of databases, a primary key is a column or set of columns in a table that uniquely identifies each row in the table. It serves as a unique identifier for individual records in the table, ensuring that no two rows have the same value for the primary key column(s). The primary key is used to enforce data integrity and create relationships between tables.\n",
    "\n",
    "Foreign Key:\n",
    "\n",
    "A foreign key is a column or set of columns in a table that refers to the primary key of another table. It establishes a link or relationship between two tables by referencing the primary key of one table from another table. The foreign key helps maintain data integrity and enforces referential integrity constraints."
   ]
  },
  {
   "cell_type": "raw",
   "id": "f814401d-1ed1-443d-bae0-1d102b60b5a9",
   "metadata": {},
   "source": [
    "Question-No.7\n",
    "\n",
    "The order of execution of SQL clauses in an SQL query typically follows these steps:\n",
    "\n",
    "FROM: The FROM clause is the first to be executed. It identifies the tables from which the data will be retrieved.\n",
    "\n",
    "JOIN: If there are any JOIN clauses in the query, they are executed next. JOIN operations combine data from multiple tables based on specified conditions.\n",
    "\n",
    "WHERE: The WHERE clause is executed after the JOIN clauses (if any). It filters the rows based on the specified conditions.\n",
    "\n",
    "GROUP BY: If a GROUP BY clause is present, it is executed next. The GROUP BY clause groups the data based on specified columns.\n",
    "\n",
    "HAVING: The HAVING clause is executed after the GROUP BY clause (if any). It filters the grouped rows based on the specified conditions.\n",
    "\n",
    "SELECT: The SELECT clause is executed after all the previous clauses. It selects the columns to be included in the result set based on the query's specifications.\n",
    "\n",
    "DISTINCT: If there is a DISTINCT keyword in the SELECT clause, it is executed next. It removes duplicate rows from the result set.\n",
    "\n",
    "ORDER BY: The ORDER BY clause is executed after the SELECT and DISTINCT clauses. It sorts the result set based on the specified columns and sorting criteria.\n",
    "\n",
    "LIMIT / OFFSET: If there is a LIMIT or OFFSET clause, it is executed last. It limits the number of rows returned in the result set or skips a certain number of rows from the beginning of the result set."
   ]
  },
  {
   "cell_type": "code",
   "execution_count": null,
   "id": "f4b380bd-ad29-4b4c-83a7-f66c4b3f1ca4",
   "metadata": {},
   "outputs": [],
   "source": []
  }
 ],
 "metadata": {
  "kernelspec": {
   "display_name": "Python 3 (ipykernel)",
   "language": "python",
   "name": "python3"
  },
  "language_info": {
   "codemirror_mode": {
    "name": "ipython",
    "version": 3
   },
   "file_extension": ".py",
   "mimetype": "text/x-python",
   "name": "python",
   "nbconvert_exporter": "python",
   "pygments_lexer": "ipython3",
   "version": "3.10.8"
  }
 },
 "nbformat": 4,
 "nbformat_minor": 5
}
